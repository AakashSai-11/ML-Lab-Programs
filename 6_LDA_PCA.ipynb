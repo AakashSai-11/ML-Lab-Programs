{
 "cells": [
  {
   "cell_type": "markdown",
   "id": "4424bacc",
   "metadata": {},
   "source": [
    "# LDA and PCA"
   ]
  },
  {
   "cell_type": "code",
   "execution_count": null,
   "id": "faa842c0",
   "metadata": {},
   "outputs": [],
   "source": [
    "# PCA"
   ]
  },
  {
   "cell_type": "code",
   "execution_count": null,
   "id": "372927ec",
   "metadata": {},
   "outputs": [],
   "source": [
    "import pandas as pd\n",
    "import matplotlib.pyplot as plt\n",
    "from sklearn.decomposition import PCA\n",
    "import kagglehub\n",
    "from kagglehub import KaggleDatasetAdapter\n",
    "\n",
    "# Load the dataset from Kaggle\n",
    "file_path = \"winequality-red.csv\"\n",
    "df = kagglehub.load_dataset(\n",
    "    KaggleDatasetAdapter.PANDAS,\n",
    "    \"uciml/red-wine-quality-cortez-et-al-2009\",\n",
    "    file_path\n",
    ")\n",
    "\n",
    "print(df.head()) # To see the data\n",
    "\n",
    "# Separate features and target\n",
    "x = df.drop('quality', axis=1)\n",
    "y = df['quality']\n",
    "\n",
    "# Apply PCA to reduce to 2 components\n",
    "pca = PCA(n_components=2)\n",
    "result = pca.fit_transform(x)\n",
    "\n",
    "# Convert PCA result to DataFrame and add the quality column\n",
    "pca_df = pd.DataFrame(result, columns=['PC1', 'PC2'])\n",
    "pca_df['quality'] = y\n",
    "\n",
    "# Plot the PCA result\n",
    "plt.figure(figsize=(8, 6))\n",
    "scatter = plt.scatter(pca_df['PC1'], pca_df['PC2'], c=pca_df['quality'], cmap='viridis', alpha=0.7)\n",
    "plt.colorbar(scatter, label='Wine Quality')\n",
    "plt.xlabel('Principal Component 1')\n",
    "plt.ylabel('Principal Component 2')\n",
    "plt.title('PCA of Red Wine Quality Dataset')\n",
    "plt.grid(True)\n",
    "plt.show()\n",
    "\n",
    "\n",
    "# Kaggle link of the used Data set -> https://www.kaggle.com/datasets/uciml/red-wine-quality-cortez-et-al-2009"
   ]
  },
  {
   "cell_type": "code",
   "execution_count": null,
   "id": "02cdaf88",
   "metadata": {},
   "outputs": [],
   "source": [
    "# LDA"
   ]
  },
  {
   "cell_type": "code",
   "execution_count": null,
   "id": "06f86bbf",
   "metadata": {},
   "outputs": [],
   "source": [
    "import pandas as pd\n",
    "import matplotlib.pyplot as plt\n",
    "from sklearn.discriminant_analysis import LinearDiscriminantAnalysis\n",
    "import kagglehub\n",
    "from kagglehub import KaggleDatasetAdapter\n",
    "\n",
    "# Load the dataset from Kaggle\n",
    "file_path = \"winequality-red.csv\"\n",
    "df = kagglehub.load_dataset(\n",
    "    KaggleDatasetAdapter.PANDAS,\n",
    "    \"uciml/red-wine-quality-cortez-et-al-2009\",\n",
    "    file_path\n",
    ")\n",
    "\n",
    "print(df.head()) # To see the data\n",
    "\n",
    "# Separate features and target\n",
    "x = df.drop('quality', axis=1)\n",
    "y = df['quality']\n",
    "\n",
    "# Apply LDA (Linear Discriminant Analysis)\n",
    "lda = LinearDiscriminantAnalysis(n_components=2)\n",
    "result = lda.fit_transform(x, y)\n",
    "\n",
    "# Convert result to DataFrame and add the quality column\n",
    "lda_df = pd.DataFrame(result, columns=['LD1', 'LD2'])\n",
    "lda_df['quality'] = y\n",
    "\n",
    "# Plot the LDA result\n",
    "plt.figure(figsize=(8, 6))\n",
    "scatter = plt.scatter(lda_df['LD1'], lda_df['LD2'], c=lda_df['quality'], cmap='viridis', alpha=0.7)\n",
    "plt.colorbar(scatter, label='Wine Quality')\n",
    "plt.xlabel('Linear Discriminant 1')\n",
    "plt.ylabel('Linear Discriminant 2')\n",
    "plt.title('LDA of Red Wine Quality Dataset')\n",
    "plt.grid(True)\n",
    "plt.show()\n",
    "\n",
    "\n",
    "# Kaggle link of the used Data set -> https://www.kaggle.com/datasets/uciml/red-wine-quality-cortez-et-al-2009"
   ]
  }
 ],
 "metadata": {
  "language_info": {
   "name": "python"
  }
 },
 "nbformat": 4,
 "nbformat_minor": 5
}

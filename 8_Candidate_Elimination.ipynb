{
 "cells": [
  {
   "cell_type": "markdown",
   "id": "d6fe18ac",
   "metadata": {},
   "source": [
    "# Candidate-Elimination Algorithm"
   ]
  },
  {
   "cell_type": "code",
   "execution_count": null,
   "id": "b2d4066b",
   "metadata": {},
   "outputs": [],
   "source": [
    "import pandas as pd\n",
    "\n",
    "# Load dataset\n",
    "data = pd.read_csv('candidate_elimination_data.csv')\n",
    "\n",
    "# Extract features and labels\n",
    "concepts = data.iloc[:, :-1].values\n",
    "labels = data.iloc[:, -1].values\n",
    "\n",
    "# Initialize the specific hypothesis S (copy the first positive example)\n",
    "s = []\n",
    "for item in concepts[0]:\n",
    "    s.append(item)\n",
    "\n",
    "# Initialize the general hypothesis G as a list of the most general hypotheses\n",
    "g = []\n",
    "for i in range(len(s)):\n",
    "    row = []\n",
    "    for j in range(len(s)):\n",
    "        row.append('?')\n",
    "    g.append(row)\n",
    "\n",
    "# Go through all training examples\n",
    "for i in range(len(concepts)):\n",
    "    example = concepts[i]\n",
    "    label = labels[i]\n",
    "\n",
    "    if label == 'Yes':\n",
    "        # Update S for positive example\n",
    "        for x in range(len(s)):\n",
    "            if example[x] != s[x]:\n",
    "                s[x] = '?'\n",
    "\n",
    "        # G is not changed for positive examples\n",
    "\n",
    "    else:\n",
    "        # Update G for negative example\n",
    "        for x in range(len(s)):\n",
    "            if s[x] != example[x]:\n",
    "                g[x][x] = s[x]\n",
    "\n",
    "# Print final hypotheses\n",
    "print(\"Final Specific Hypothesis (S):\", s)\n",
    "print(\"Final General Hypothesis (G):\")\n",
    "for hypothesis in g:\n",
    "    print(hypothesis)\n",
    "\n",
    "\n",
    "# Though the names are different, Same data set that was used for find-s is used here as well."
   ]
  }
 ],
 "metadata": {
  "language_info": {
   "name": "python"
  }
 },
 "nbformat": 4,
 "nbformat_minor": 5
}

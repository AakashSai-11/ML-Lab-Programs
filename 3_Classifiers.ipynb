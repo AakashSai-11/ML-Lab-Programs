{
 "cells": [
  {
   "cell_type": "markdown",
   "id": "333e0b3c",
   "metadata": {},
   "source": [
    "# Decision Tree, KNN, Naive Bayes, SVM"
   ]
  },
  {
   "cell_type": "code",
   "execution_count": null,
   "id": "09dbbb92",
   "metadata": {},
   "outputs": [],
   "source": [
    "# Decision Tree"
   ]
  },
  {
   "cell_type": "code",
   "execution_count": null,
   "id": "d7c242a6",
   "metadata": {},
   "outputs": [],
   "source": [
    "import pandas as pd\n",
    "from sklearn.tree import DecisionTreeClassifier\n",
    "import kagglehub\n",
    "from kagglehub import KaggleDatasetAdapter\n",
    "\n",
    "# Load dataset\n",
    "file_path = \"play_tennis.csv\"\n",
    "df = kagglehub.load_dataset(\n",
    "    KaggleDatasetAdapter.PANDAS,\n",
    "    \"fredericobreno/play-tennis\",\n",
    "    file_path\n",
    ")\n",
    "\n",
    "print(\"First 5 records:\")\n",
    "print(df.head())\n",
    "\n",
    "# Drop the 'day' column — it's just an identifier\n",
    "df = df.drop('day', axis=1)\n",
    "\n",
    "# One-hot encode categorical variables\n",
    "data = pd.get_dummies(df)\n",
    "\n",
    "# Set up features and target\n",
    "x = data.drop('play_Yes', axis=1)\n",
    "y = data['play_Yes']\n",
    "\n",
    "# Train model\n",
    "model = DecisionTreeClassifier()\n",
    "model.fit(x, y)\n",
    "\n",
    "# Predict on the first row\n",
    "print(\"Prediction:\", model.predict(x.iloc[[0]]))\n",
    "\n",
    "# The Kaggle link for the data set is -> https://www.kaggle.com/datasets/fredericobreno/play-tennis"
   ]
  },
  {
   "cell_type": "code",
   "execution_count": null,
   "id": "04c95031",
   "metadata": {},
   "outputs": [],
   "source": [
    "# K-Nearest Neighbors"
   ]
  },
  {
   "cell_type": "code",
   "execution_count": null,
   "id": "ec72247f",
   "metadata": {},
   "outputs": [],
   "source": [
    "from sklearn.datasets import load_iris\n",
    "from sklearn.neighbors import KNeighborsClassifier\n",
    "from sklearn.model_selection import train_test_split\n",
    "\n",
    "iris = load_iris()\n",
    "# Internal dataset of sklearn is used here\n",
    "\n",
    "df = pd.DataFrame(iris.data, columns=iris.feature_names)\n",
    "df['species'] = iris.target\n",
    "print('First 5 records of the data: ')\n",
    "#print(df) -> Do this if you want to see the data\n",
    "x_train, x_test, y_train, y_test = train_test_split(iris.data, iris.target, test_size=0.3)\n",
    "model = KNeighborsClassifier(n_neighbors=3)\n",
    "model.fit(x_train, y_train)\n",
    "print(\"Accuracy:\", model.score(x_test, y_test))"
   ]
  },
  {
   "cell_type": "code",
   "execution_count": null,
   "id": "00566c8c",
   "metadata": {},
   "outputs": [],
   "source": [
    "# Naive Bayes"
   ]
  },
  {
   "cell_type": "code",
   "execution_count": null,
   "id": "223e78bc",
   "metadata": {},
   "outputs": [],
   "source": [
    "from sklearn.datasets import load_breast_cancer\n",
    "from sklearn.naive_bayes import GaussianNB\n",
    "from sklearn.model_selection import train_test_split\n",
    "import pandas as pd\n",
    "\n",
    "data = load_breast_cancer()\n",
    "df = pd.DataFrame(data.data, columns=data.feature_names)\n",
    "df['target'] = data.target\n",
    "print(df) #To see the data\n",
    "x_train, x_test, y_train, y_test = train_test_split(data.data, data.target, test_size=0.3)\n",
    "model = GaussianNB()\n",
    "model.fit(x_train, y_train)\n",
    "print(\"Accuracy:\", model.score(x_test, y_test))"
   ]
  },
  {
   "cell_type": "code",
   "execution_count": null,
   "id": "78f9a21b",
   "metadata": {},
   "outputs": [],
   "source": [
    "# Support Vector Machine"
   ]
  },
  {
   "cell_type": "code",
   "execution_count": null,
   "id": "f156dbba",
   "metadata": {},
   "outputs": [],
   "source": [
    "from sklearn.datasets import load_breast_cancer\n",
    "from sklearn.svm import SVC\n",
    "from sklearn.model_selection import train_test_split\n",
    "\n",
    "# Load built-in dataset\n",
    "data = load_breast_cancer()\n",
    "\n",
    "# Features and target\n",
    "x = data.data\n",
    "y = data.target  # 0 = malignant, 1 = benign\n",
    "\n",
    "# Train-test split\n",
    "x_train, x_test, y_train, y_test = train_test_split(x, y, test_size=0.2)\n",
    "\n",
    "# SVM classifier\n",
    "model = SVC(kernel='linear')\n",
    "model.fit(x_train, y_train)\n",
    "\n",
    "# Evaluate accuracy\n",
    "print(\"Accuracy:\", model.score(x_test, y_test))\n",
    "\n",
    "\n",
    "#Alternative code if we want graph as well :-\n",
    "'''\n",
    "As this is a very high dimensional data set, graph is not possible but we can do it if we consider only 2 features and the code for that is :\n",
    "\n",
    "import matplotlib.pyplot as plt\n",
    "import numpy as np\n",
    "from sklearn.datasets import load_breast_cancer\n",
    "from sklearn.model_selection import train_test_split\n",
    "from sklearn.svm import SVC\n",
    "\n",
    "# Load data\n",
    "data = load_breast_cancer()\n",
    "X = data.data[:, [0, 1]]  # Use only first 2 features: mean radius and mean texture\n",
    "y = data.target\n",
    "\n",
    "# Split\n",
    "X_train, X_test, y_train, y_test = train_test_split(X, y, test_size=0.2)\n",
    "\n",
    "# Train SVM\n",
    "model = SVC(kernel='linear')\n",
    "model.fit(X_train, y_train)\n",
    "\n",
    "# Accuracy\n",
    "print(\"Accuracy:\", model.score(X_test, y_test))\n",
    "\n",
    "# Plotting function\n",
    "def plot_decision_boundary(X, y, model, title):\n",
    "    h = 0.01  # mesh step size\n",
    "    x_min, x_max = X[:, 0].min() - 1, X[:, 0].max() + 1\n",
    "    y_min, y_max = X[:, 1].min() - 1, X[:, 1].max() + 1\n",
    "\n",
    "    xx, yy = np.meshgrid(np.arange(x_min, x_max, h),\n",
    "                         np.arange(y_min, y_max, h))\n",
    "\n",
    "    Z = model.predict(np.c_[xx.ravel(), yy.ravel()])\n",
    "    Z = Z.reshape(xx.shape)\n",
    "\n",
    "    plt.contourf(xx, yy, Z, alpha=0.3, cmap=plt.cm.coolwarm)\n",
    "    plt.scatter(X[:, 0], X[:, 1], c=y, edgecolors='k', cmap=plt.cm.coolwarm)\n",
    "    plt.xlabel('Mean Radius')\n",
    "    plt.ylabel('Mean Texture')\n",
    "    plt.title(title)\n",
    "    plt.show()\n",
    "\n",
    "# Plot\n",
    "plot_decision_boundary(X_train, y_train, model, \"SVM Decision Boundary (Train)\")\n",
    "plot_decision_boundary(X_test, y_test, model, \"SVM Decision Boundary (Test)\")\n",
    "\n",
    "'''\n"
   ]
  }
 ],
 "metadata": {
  "language_info": {
   "name": "python"
  }
 },
 "nbformat": 4,
 "nbformat_minor": 5
}

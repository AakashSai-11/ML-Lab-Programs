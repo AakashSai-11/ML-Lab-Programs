{
 "cells": [
  {
   "cell_type": "markdown",
   "id": "fdc78189",
   "metadata": {},
   "source": [
    "# FIND-S Algorithm"
   ]
  },
  {
   "cell_type": "code",
   "execution_count": null,
   "id": "424a9e7e",
   "metadata": {},
   "outputs": [],
   "source": [
    "import pandas as pd\n",
    "\n",
    "# Load dataset\n",
    "df = pd.read_csv('find_s_data.csv')\n",
    "\n",
    "# Get attribute names (excluding the target column)\n",
    "attributes = list(df.columns[:-1])\n",
    "\n",
    "# Start with the most specific hypothesis — all '0's\n",
    "hypothesis = ['0'] * len(attributes)\n",
    "\n",
    "# Iterate over the examples\n",
    "for i in range(len(df)):\n",
    "    # Check if the current example is positive\n",
    "    if df.iloc[i][-1] == 'Yes':\n",
    "        # Compare each attribute\n",
    "        for j in range(len(attributes)):\n",
    "            # If hypothesis is uninitialized, take the attribute value\n",
    "            if hypothesis[j] == '0':\n",
    "                hypothesis[j] = df.iloc[i][j]\n",
    "            # If values differ, generalize to '?'\n",
    "            elif hypothesis[j] != df.iloc[i][j]:\n",
    "                hypothesis[j] = '?'\n",
    "\n",
    "# Output final hypothesis\n",
    "print(\"Final Hypothesis:\", hypothesis)\n",
    "\n",
    "# We need to download find_s_data.csv file for this one"
   ]
  },
  {
   "cell_type": "code",
   "execution_count": null,
   "id": "73f8dd01",
   "metadata": {},
   "outputs": [],
   "source": []
  }
 ],
 "metadata": {
  "language_info": {
   "name": "python"
  }
 },
 "nbformat": 4,
 "nbformat_minor": 5
}

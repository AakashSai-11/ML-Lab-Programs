{
 "cells": [
  {
   "cell_type": "markdown",
   "id": "6ca1afd8",
   "metadata": {},
   "source": [
    "# Self-Organizing Feature Map"
   ]
  },
  {
   "cell_type": "code",
   "execution_count": null,
   "id": "6d779931",
   "metadata": {},
   "outputs": [],
   "source": [
    "import numpy as np\n",
    "\n",
    "# Input: 4 patterns of 4 features each\n",
    "X = np.array([\n",
    "    [1, 1, 0, 0],\n",
    "    [0, 1, 0, 0],\n",
    "    [0, 0, 1, 0],\n",
    "    [0, 0, 1, 1]\n",
    "])\n",
    "\n",
    "# Initialize random weights for 2 neurons (4 features each)\n",
    "weights = np.random.rand(4, 2)\n",
    "\n",
    "alpha = 0.5  # learning rate\n",
    "\n",
    "# Train over 100 iterations\n",
    "for epoch in range(100):\n",
    "    for i in range(len(X)):\n",
    "        input_vector = X[i]\n",
    "\n",
    "        # Compute distance from input to each neuron's weight vector\n",
    "        dists = []\n",
    "        for j in range(2):  # for each neuron\n",
    "            weight_vector = weights[:, j]\n",
    "            dist = np.linalg.norm(input_vector - weight_vector)\n",
    "            dists.append(dist)\n",
    "\n",
    "        # Find winning neuron (closest)\n",
    "        winner_index = np.argmin(dists)\n",
    "\n",
    "        # Update that neuron's weight vector\n",
    "        weights[:, winner_index] = weights[:, winner_index] + alpha * (input_vector - weights[:, winner_index])\n",
    "\n",
    "# Show final weights\n",
    "print(\"Final neuron weights:\")\n",
    "print(weights)\n"
   ]
  }
 ],
 "metadata": {
  "language_info": {
   "name": "python"
  }
 },
 "nbformat": 4,
 "nbformat_minor": 5
}

{
 "cells": [
  {
   "cell_type": "markdown",
   "id": "ee5663dd",
   "metadata": {},
   "source": [
    "# Basic Data Pre-processing"
   ]
  },
  {
   "cell_type": "code",
   "execution_count": null,
   "id": "2b7c1db7",
   "metadata": {},
   "outputs": [],
   "source": [
    "import pandas as pd\n",
    "import numpy as np\n",
    "from scipy import constants\n",
    "print(\"1 litre =\", constants.litre)"
   ]
  },
  {
   "cell_type": "code",
   "execution_count": null,
   "id": "b56257cb",
   "metadata": {},
   "outputs": [],
   "source": [
    "\n",
    "df = pd.read_csv('insurance_data_with_day.csv')\n",
    "df.head() # Showing how to read the csv file, for this we have to download the csv file and give the file path in the above parameter\n",
    "\n",
    "'''\n",
    "We dont need to download if we want to directly import a data set from Kaggle, The way to do this is given below:\n",
    "\n",
    "# Install dependencies as needed:\n",
    "# pip install kagglehub[pandas-datasets]\n",
    "\n",
    "import kagglehub\n",
    "from kagglehub import KaggleDatasetAdapter\n",
    "\n",
    "file_path = \"AutoInsurance.csv\" # Adjust the file path from the data set\n",
    "\n",
    "df = kagglehub.load_dataset(\n",
    "  KaggleDatasetAdapter.PANDAS,\n",
    "  \"ranja7/vehicle-insurance-customer-data\",\n",
    "  file_path\n",
    ")\n",
    "\n",
    "print(\"First 5 records:\")\n",
    "print(df.head())\n",
    "\n",
    "# The kaggle link for the used data set is -> https://www.kaggle.com/datasets/ranja7/vehicle-insurance-customer-data\n",
    "\n",
    "'''"
   ]
  },
  {
   "cell_type": "code",
   "execution_count": null,
   "id": "a219b356",
   "metadata": {},
   "outputs": [],
   "source": [
    "a = np.array([[1,2,3],[4,5,6]])\n",
    "print(\"Shape:\", a.shape)\n",
    "print(\"Size:\", a.size)\n",
    "print(\"Dtype:\", a.dtype)"
   ]
  }
 ],
 "metadata": {
  "language_info": {
   "name": "python"
  }
 },
 "nbformat": 4,
 "nbformat_minor": 5
}

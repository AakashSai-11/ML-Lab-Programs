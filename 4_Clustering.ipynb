{
 "cells": [
  {
   "cell_type": "markdown",
   "id": "30c0b2fe",
   "metadata": {},
   "source": [
    "# K-Means & Competitive Learning"
   ]
  },
  {
   "cell_type": "code",
   "execution_count": null,
   "id": "5769c00b",
   "metadata": {},
   "outputs": [],
   "source": [
    "# KMeans Clustering"
   ]
  },
  {
   "cell_type": "code",
   "execution_count": null,
   "id": "7ea6f286",
   "metadata": {},
   "outputs": [],
   "source": [
    "from sklearn.cluster import KMeans\n",
    "import numpy as np\n",
    "import matplotlib.pyplot as plt\n",
    "\n",
    "X = np.array([[1, 2], [1, 4], [1, 0], [4, 2], [4, 4], [4, 0]])\n",
    "model = KMeans(n_clusters=2)\n",
    "model.fit(X)\n",
    "print(\"Labels:\", model.labels_)\n",
    "\n",
    "# Plot data points colored by cluster\n",
    "plt.scatter(X[:, 0], X[:, 1], c=model.labels_, cmap='viridis', s=100)\n",
    "\n",
    "# Plot the centroids\n",
    "centroids = model.cluster_centers_\n",
    "plt.scatter(centroids[:, 0], centroids[:, 1], c='red', s=200, marker='X', label='Centroids')\n",
    "\n",
    "plt.title('K-Means Clustering (k=2)')\n",
    "plt.xlabel('X1')\n",
    "plt.ylabel('X2')\n",
    "plt.legend()\n",
    "plt.grid(True)\n",
    "plt.show()\n"
   ]
  },
  {
   "cell_type": "code",
   "execution_count": null,
   "id": "7dd815d7",
   "metadata": {},
   "outputs": [],
   "source": [
    "# Competitive Learning (SOM-like logic simplified)"
   ]
  },
  {
   "cell_type": "code",
   "execution_count": null,
   "id": "2dc93a07",
   "metadata": {},
   "outputs": [],
   "source": [
    "import numpy as np\n",
    "\n",
    "# Input data: 4 patterns, each of 4 dimensions\n",
    "X = np.array([\n",
    "    [1, 1, 0, 0],\n",
    "    [0, 1, 0, 0],\n",
    "    [0, 0, 1, 0],\n",
    "    [0, 0, 1, 1]\n",
    "])\n",
    "\n",
    "# Initialize weights randomly for 2 neurons\n",
    "weights = np.random.rand(4, 2)  # shape: (4 features, 2 neurons)\n",
    "\n",
    "alpha = 0.5  # learning rate\n",
    "\n",
    "# Repeat the process for 100 iterations\n",
    "for epoch in range(100):\n",
    "    for i in range(len(X)):\n",
    "        input_vector = X[i]\n",
    "\n",
    "        # Compute distances to both neurons\n",
    "        dists = []\n",
    "        for j in range(2):\n",
    "            weight_vector = weights[:, j]\n",
    "            dist = np.linalg.norm(input_vector - weight_vector)\n",
    "            dists.append(dist)\n",
    "\n",
    "        # Find the index of the neuron with the smallest distance\n",
    "        winner_index = np.argmin(dists)\n",
    "\n",
    "        # Update the winning neuron's weights\n",
    "        weights[:, winner_index] = weights[:, winner_index] + alpha * (input_vector - weights[:, winner_index])\n",
    "\n",
    "# Print final weights\n",
    "print(\"Final weights (prototypes):\")\n",
    "print(weights)\n"
   ]
  }
 ],
 "metadata": {
  "language_info": {
   "name": "python"
  }
 },
 "nbformat": 4,
 "nbformat_minor": 5
}
